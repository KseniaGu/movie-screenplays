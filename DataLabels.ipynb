{
  "nbformat": 4,
  "nbformat_minor": 0,
  "metadata": {
    "colab": {
      "name": "DataLabels.ipynb",
      "private_outputs": true,
      "provenance": [],
      "collapsed_sections": [],
      "include_colab_link": true
    },
    "kernelspec": {
      "name": "python3",
      "display_name": "Python 3"
    },
    "language_info": {
      "name": "python"
    }
  },
  "cells": [
    {
      "cell_type": "markdown",
      "metadata": {
        "id": "view-in-github",
        "colab_type": "text"
      },
      "source": [
        "<a href=\"https://colab.research.google.com/github/GuFukuRo/movie-screenplays/blob/main/DataLabels.ipynb\" target=\"_parent\"><img src=\"https://colab.research.google.com/assets/colab-badge.svg\" alt=\"Open In Colab\"/></a>"
      ]
    },
    {
      "cell_type": "code",
      "metadata": {
        "id": "JwZtV4I3GEYK"
      },
      "source": [
        "from google.colab import drive\n",
        "drive.mount('/content/drive')"
      ],
      "execution_count": null,
      "outputs": []
    },
    {
      "cell_type": "code",
      "metadata": {
        "id": "OCCx1F4WGp1P"
      },
      "source": [
        "import pickle\n",
        "import pandas as pd\n",
        "import os\n",
        "from itertools import chain"
      ],
      "execution_count": null,
      "outputs": []
    },
    {
      "cell_type": "code",
      "metadata": {
        "id": "aa0PXXS1donj"
      },
      "source": [
        "config = {\n",
        "    'paths':{ \n",
        "       'movie_meta_data': '/content/drive/MyDrive/Movie scripts dataset/Movie meta data/movie_meta_data.csv',\n",
        "       'movies_matching_scores' : '/content/drive/MyDrive/Movie scripts dataset/Movie characters/Matching evaluation and statistics/movies_mean_matching_scores.xlsx',\n",
        "       'nominated_movies': '/content/drive/MyDrive/Movie scripts dataset/BERT training data/Screenplay awards data/all_awards_movies.pickle',\n",
        "       'scripts': '/content/drive/MyDrive/Movie scripts dataset/Movie scripts and annotations/Scripts'\n",
        "       },\n",
        "       'task':{\n",
        "           'all': ('script_awards', 'meta_scores', 'year', 'genre'),\n",
        "           'name': 'script_awards' # from ['meta_scores', 'script_awards']\n",
        "       }\n",
        "}"
      ],
      "execution_count": null,
      "outputs": []
    },
    {
      "cell_type": "code",
      "metadata": {
        "id": "mOUdchLim8Xb"
      },
      "source": [
        "movie_meta_df = pd.read_csv(config['paths']['movie_meta_data'])\n",
        "print(movie_meta_df.columns)"
      ],
      "execution_count": null,
      "outputs": []
    },
    {
      "cell_type": "code",
      "metadata": {
        "id": "CJVxVFdl6fMK"
      },
      "source": [
        "movie_meta_df.genres = movie_meta_df.genres.apply(lambda x: x.split(', ') if x==x else [''])\n",
        "print(list(chain(*movie_meta_df.genres.values)))"
      ],
      "execution_count": null,
      "outputs": []
    },
    {
      "cell_type": "code",
      "metadata": {
        "id": "kau4S0jL7MR9"
      },
      "source": [
        "all_genres = set(list(chain(*movie_meta_df.genres.values)))"
      ],
      "execution_count": null,
      "outputs": []
    },
    {
      "cell_type": "code",
      "metadata": {
        "id": "-xtRTr0e7PL3"
      },
      "source": [
        "print(len(all_genres))\n",
        "print(all_genres)"
      ],
      "execution_count": null,
      "outputs": []
    },
    {
      "cell_type": "code",
      "metadata": {
        "id": "zbOUmgVonPRO"
      },
      "source": [
        "print(movie_meta_df.year.drop_duplicates().values)"
      ],
      "execution_count": null,
      "outputs": []
    },
    {
      "cell_type": "code",
      "metadata": {
        "id": "EFI4LD0fe61n"
      },
      "source": [
        "class DataLabels:\n",
        "    def __init__(self, config):\n",
        "        self.config = config\n",
        "    \n",
        "    def get_movie_meta_scores(self):\n",
        "        movie_meta_df = pd.read_csv(self.config['paths']['movie_meta_data'])\n",
        "        movie_meta_dict = dict(zip(movie_meta_df['imdbid'].tolist(), \n",
        "                                   movie_meta_df['metascore'].tolist()))    \n",
        "        return movie_meta_dict\n",
        "        \n",
        "    def get_movie_years(self):\n",
        "        movie_meta_df = pd.read_csv(self.config['paths']['movie_meta_data'])\n",
        "        movie_meta_dict = dict(zip(movie_meta_df['imdbid'].tolist(), \n",
        "                                   movie_meta_df['year'].tolist()))   \n",
        "        return movie_meta_dict\n",
        "\n",
        "    def get_movie_genre(self):\n",
        "        movie_meta_df = pd.read_csv(self.config['paths']['movie_meta_data'])\n",
        "        movie_meta_df.genres = movie_meta_df.genres.apply(lambda x: x.split(', ')[0] if x==x else -1)\n",
        "        movie_meta_dict = dict(zip(movie_meta_df['imdbid'].tolist(), \n",
        "                                   movie_meta_df['genres'].tolist()))   \n",
        "        return movie_meta_dict\n",
        "\n",
        "    def get_movie_script_awards(self):\n",
        "        with open(config['paths']['nominated_movies'], 'rb') as f:\n",
        "            nominated_movies = pickle.load(f)\n",
        "        nominated_movies_imdb_ids = [x.split('_')[1].split('.')[0] for x in nominated_movies]\n",
        "        all_movie_scripts = os.listdir(self.config['paths']['scripts'])\n",
        "        imdb_ids = [x.replace('.txt','').split('_')[-1] for x in all_movie_scripts]\n",
        "        print('len imdb_ids', len(imdb_ids))\n",
        "        not_nominated_movies_imdb_ids = [x for x in imdb_ids if not x in nominated_movies_imdb_ids]\n",
        "        return nominated_movies_imdb_ids, not_nominated_movies_imdb_ids\n",
        "\n",
        "    def get_labels(self, task):\n",
        "        if task=='meta_scores':\n",
        "            movie_meta_dict = self.get_movie_meta_scores()\n",
        "            #movie_meta_dict = dict([(key, value) for key, value in movie_meta_dict.items()])\n",
        "            return movie_meta_dict\n",
        "        elif task=='script_awards':\n",
        "            nominated_movies_imdb_ids, not_nominated_movies_imdb_ids = self.get_movie_script_awards()\n",
        "            scripts_award_dict = list(zip(nominated_movies_imdb_ids, [1] * len(nominated_movies_imdb_ids)))\n",
        "            scripts_award_dict += list(zip(not_nominated_movies_imdb_ids, [0] * len(not_nominated_movies_imdb_ids)))\n",
        "            scripts_award_dict = dict(scripts_award_dict)\n",
        "            return scripts_award_dict\n",
        "        elif task=='year':\n",
        "            movie_years_dict = self.get_movie_years()\n",
        "            return movie_years_dict\n",
        "        elif task=='genre':\n",
        "            movie_genres_dict = self.get_movie_genre()\n",
        "            return movie_genres_dict\n"
      ],
      "execution_count": null,
      "outputs": []
    },
    {
      "cell_type": "code",
      "metadata": {
        "id": "THW9WLy_GVMb"
      },
      "source": [
        "DL = DataLabels(config)"
      ],
      "execution_count": null,
      "outputs": []
    },
    {
      "cell_type": "code",
      "metadata": {
        "id": "iUHhCo9wpxkV"
      },
      "source": [
        "task_to_labels_dicst = {}\n",
        "for task in config['task']['all']:\n",
        "    labels_dict = DL.get_labels(task)\n",
        "    task_to_labels_dicst[task] = labels_dict\n",
        "\n",
        "print(task_to_labels_dicst)"
      ],
      "execution_count": null,
      "outputs": []
    },
    {
      "cell_type": "code",
      "metadata": {
        "id": "rNFfDHlSqRrR"
      },
      "source": [
        "print(len(task_to_labels_dicst['year']))\n",
        "print(task_to_labels_dicst['year'])"
      ],
      "execution_count": null,
      "outputs": []
    },
    {
      "cell_type": "code",
      "metadata": {
        "id": "KYoBcxo6q5B9"
      },
      "source": [
        "with open('/content/drive/MyDrive/Movie scripts dataset/BERT training data/Script texts/script_task_to_labels_dicts.pickle', 'wb') as f:\n",
        "    pickle.dump(task_to_labels_dicst, f)"
      ],
      "execution_count": null,
      "outputs": []
    }
  ]
}