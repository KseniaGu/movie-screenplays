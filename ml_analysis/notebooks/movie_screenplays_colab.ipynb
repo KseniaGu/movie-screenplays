{
  "nbformat": 4,
  "nbformat_minor": 0,
  "metadata": {
    "colab": {
      "name": "movie_screenplays_colab.ipynb",
      "private_outputs": true,
      "provenance": [],
      "collapsed_sections": []
    },
    "kernelspec": {
      "name": "python3",
      "display_name": "Python 3"
    },
    "language_info": {
      "name": "python"
    },
    "accelerator": "GPU"
  },
  "cells": [
    {
      "cell_type": "code",
      "execution_count": null,
      "metadata": {
        "id": "0CaUqECdGXdb"
      },
      "outputs": [],
      "source": [
        "import sys\n",
        "sys.path.insert(0,'/content/drive/MyDrive/NLP/Movies/movie_screenplays')"
      ]
    },
    {
      "cell_type": "code",
      "source": [
        "!pip install transformers\n",
        "!pip install mlflow --quiet"
      ],
      "metadata": {
        "id": "CNUeiu0UM1th"
      },
      "execution_count": null,
      "outputs": []
    },
    {
      "cell_type": "markdown",
      "source": [
        "## Training setup:\n",
        "\n"
      ],
      "metadata": {
        "id": "Vsmc4fMowZkt"
      }
    },
    {
      "cell_type": "code",
      "source": [
        "from ml_analysis.training.train import Trainer\n",
        "from ml_analysis.models.screenplay_assessor import ScreenplayAssessor\n",
        "from ml_analysis.datasets.screenplay_dataset import ScreenplayDataset\n",
        "from ml_analysis.datasets.base_preprocessor import BasePreprocessor\n",
        "from ml_analysis.dataloaders.base_dataloader import BaseDataloader"
      ],
      "metadata": {
        "id": "-QbTcu5LMtjH"
      },
      "execution_count": null,
      "outputs": []
    },
    {
      "cell_type": "code",
      "source": [
        "from transformers import BertModel, BertTokenizerFast"
      ],
      "metadata": {
        "id": "TSt2NxlAWkOD"
      },
      "execution_count": null,
      "outputs": []
    },
    {
      "cell_type": "code",
      "source": [
        "from enum import Enum\n",
        "import os\n",
        "import torch\n",
        "from transformers import BertTokenizerFast, BertModel\n",
        "\n",
        "project_dir = '/content/drive/MyDrive/NLP/Movies/movie_screenplays/'\n",
        "\n",
        "movie_data_config = {\n",
        "    'paths':\n",
        "        {\n",
        "            'screenplays_dir': os.path.join(project_dir, 'data/movie_screenplay_dataset/screenplay_data/raw_texts'),\n",
        "            'screenplay_annotations_dir': os.path.join(project_dir, 'data/movie_screenplay_dataset/screenplay_data/BERT_annotations'),\n",
        "            'screenplay_labels_mapping_path': os.path.join(project_dir, 'data/movie_screenplay_dataset/screenplay_data/script_task_to_labels_dicts.pickle'),\n",
        "            'character_texts_dir': os.path.join(project_dir,'data/movie_screenplay_dataset/movie_characters/bert_anno_character_texts'),\n",
        "            'character_labels_dir': os.path.join(project_dir,'data/movie_screenplay_dataset/movie_characters/labels'),\n",
        "            'imdb_chars_train_data': os.path.join(project_dir,'data/movie_screenplay_dataset/movie_characters/tokenized/imdb_chars_train_data.pickle'),\n",
        "            'logs_dir': os.path.join(project_dir,'logs'),\n",
        "            'mlruns_dir': '/content/mlruns',\n",
        "            'ckpt_dir': os.path.join(project_dir,'ckpts')\n",
        "        },\n",
        "    'tokenization':\n",
        "        {\n",
        "            'screenplay_dataset':\n",
        "                {\n",
        "                    'truncation': True,\n",
        "                    'padding': 'max_length',\n",
        "                    'max_scene_number': 10\n",
        "                },\n",
        "            'character_dataset':\n",
        "                {\n",
        "                    'max_seq_length': 512\n",
        "                },\n",
        "            'next_scene_dataset':\n",
        "                {\n",
        "                    'max_nrof_pairs': 1000,\n",
        "                    'max_seq_length': 512,\n",
        "                    'truncation': True,\n",
        "                    'padding': 'max_length'\n",
        "                },\n",
        "            'nrof_scene_symbols':\n",
        "                {\n",
        "                    'min': 50,\n",
        "                    'max': 20000\n",
        "                }\n",
        "        },\n",
        "    'train':\n",
        "        {\n",
        "            'task': 'movie_script_awards',\n",
        "            'exp_name': '100_scenes_average',\n",
        "            'to_validate': False,\n",
        "            'validation_step': 20,\n",
        "            'batch_size':\n",
        "                {\n",
        "                    'train': 4,\n",
        "                    'val': 4,\n",
        "                    'test': 4\n",
        "                },\n",
        "            'test_val_split': 0.2,\n",
        "            'dropout': 0.1,\n",
        "            'optimizer': 'AdamW',\n",
        "            'optimizer_params':\n",
        "                {\n",
        "                    'AdamW':\n",
        "                        {\n",
        "                            'lr': 1e-5,\n",
        "                            'eps': 1e-8,\n",
        "                            'weight_decay': 0.0001\n",
        "                        }\n",
        "                },\n",
        "            'embedding_size': 768,\n",
        "            'model': BertModel,  # from [BertForSequenceClassification, LongformerForSequenceClassification]\n",
        "            'tokenizer': BertTokenizerFast,  # from [BertTokenizer, LongformerTokenizer]\n",
        "            'pretrained_model_type': 'bert-base-cased',  # from ['bert-base-cased', 'allenai/longformer-base-4096']\n",
        "            'nrof_steps_for_shed': 800,\n",
        "            'nrof_warmup_steps': 50,\n",
        "            'train_logging_step': 10,\n",
        "            'metric_eval_examples_num': 50,\n",
        "            'nrof_epochs': 2,\n",
        "            'task_name': 'script_awards',\n",
        "            'classes_names':\n",
        "                {\n",
        "                    'movie_genre':\n",
        "                        [\n",
        "                            'Comedy', 'Short', 'Thriller', 'Documentary', 'Horror', 'Biography', 'Mystery', 'Animation',\n",
        "                            'Crime', 'Adventure', 'Action', 'Drama', 'Fantasy'\n",
        "                        ],\n",
        "                    'movie_script_awards':\n",
        "                        [\n",
        "                            'Not nominated', 'Nominated'\n",
        "                        ],\n",
        "                    'character_role':\n",
        "                        [\n",
        "                            'Main', 'Minor'              \n",
        "                        ],\n",
        "                    'character_gender':\n",
        "                        [\n",
        "                            'Female', 'Male'\n",
        "                        ],\n",
        "                    'next_scene_prediction':\n",
        "                        [\n",
        "                            'Next', 'Not next'\n",
        "                        ]\n",
        "                },\n",
        "            'use_intermediate_weights': False,\n",
        "            'device': torch.device(\"cuda:0\" if torch.cuda.is_available() else \"cpu\"),\n",
        "            'load_model': False,\n",
        "            'global_ckpt_saving_step': 20,\n",
        "            'running_ckpt_saving_step': 100,\n",
        "            'seed': 11\n",
        "        },\n",
        "    'screenplay_elements': Enum('screenplay_elements', 'scene_heading speaker_heading dialog text'),\n",
        "    'tasks': Enum('tasks', 'character_role character_gender movie_script_awards movie_genre next_scene_prediction')\n",
        "}\n"
      ],
      "metadata": {
        "id": "NsgqkFqTZ2gG"
      },
      "execution_count": null,
      "outputs": []
    },
    {
      "cell_type": "markdown",
      "source": [
        "## Train:"
      ],
      "metadata": {
        "id": "b2RAmSxdwhTy"
      }
    },
    {
      "cell_type": "code",
      "source": [
        "tokenizer = BertTokenizerFast.from_pretrained('bert-base-cased')\n",
        "preprocessor = BasePreprocessor()\n",
        "\n",
        "screenplay_dataset = ScreenplayDataset(tokenizer, movie_data_config, 'movie_script_awards', preprocessor)\n",
        "screenplay_dataset.prepare_dataset()\n",
        "dataloader = BaseDataloader(movie_data_config['train'])"
      ],
      "metadata": {
        "id": "E-8qRMTSZPH8"
      },
      "execution_count": null,
      "outputs": []
    },
    {
      "cell_type": "code",
      "source": [
        "screenplay_dataset.set_phase('train')\n",
        "train_dataloader = dataloader.get_dataloader(screenplay_dataset, phase='train', to_make_weights=True)\n",
        "screenplay_dataset.set_phase('val')\n",
        "val_dataloader = dataloader.get_dataloader(screenplay_dataset, phase='val', to_make_weights=False)"
      ],
      "metadata": {
        "id": "UaX990v2kepv"
      },
      "execution_count": null,
      "outputs": []
    },
    {
      "cell_type": "code",
      "source": [
        "model = ScreenplayAssessor(BertModel.from_pretrained('bert-base-cased', gradient_checkpointing=True), movie_data_config)\n",
        "trainer = Trainer(movie_data_config, model, train_dataloader, val_dataloader)"
      ],
      "metadata": {
        "id": "tkjIR8w3WQMI"
      },
      "execution_count": null,
      "outputs": []
    },
    {
      "cell_type": "code",
      "source": [
        "trainer.train()"
      ],
      "metadata": {
        "id": "rMXhkgzQi7pX"
      },
      "execution_count": null,
      "outputs": []
    }
  ]
}