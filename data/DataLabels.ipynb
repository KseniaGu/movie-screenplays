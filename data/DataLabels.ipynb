{
  "nbformat": 4,
  "nbformat_minor": 0,
  "metadata": {
    "colab": {
      "name": "DataLabels.ipynb",
      "private_outputs": true,
      "provenance": [],
      "collapsed_sections": []
    },
    "kernelspec": {
      "name": "python3",
      "display_name": "Python 3"
    },
    "language_info": {
      "name": "python"
    }
  },
  "cells": [
    {
      "cell_type": "code",
      "metadata": {
        "id": "aa0PXXS1donj"
      },
      "source": [
        "config = {\n",
        "    'paths':{ \n",
        "       'movie_meta_data': '/content/drive/MyDrive/NLP/Movie scripts dataset/Movie meta data/movie_meta_data.csv',\n",
        "       'movies_matching_scores' : '/content/drive/MyDrive/NLP/Movie scripts dataset/Movie characters/Matching evaluation and statistics/movies_mean_matching_scores.xlsx',\n",
        "       },\n",
        "       'task':{\n",
        "           'name': 'meta_scores' # from ['meta_scores', 'script_awards']\n",
        "       }\n",
        "}"
      ],
      "execution_count": null,
      "outputs": []
    },
    {
      "cell_type": "code",
      "metadata": {
        "id": "EFI4LD0fe61n"
      },
      "source": [
        "class DataLabels:\n",
        "    def __init__(self, config):\n",
        "        self.config = config\n",
        "    \n",
        "    def get_movie_meta_scores(self):\n",
        "        movie_meta_df = pd.read_csv(self.config['paths']['movie_meta_data'])\n",
        "        movie_meta_dict = dict(zip(movie_meta_df['imdbid'].tolist(), \n",
        "                                   movie_meta_df['metascore'].tolist()))    \n",
        "        return movie_meta_dict\n",
        "\n",
        "    def get_movie_script_awards(self):\n",
        "        with open(config['paths']['nominated_movies'], 'rb') as f:\n",
        "            nominated_movies = pickle.load(f)\n",
        "        nominated_movies_imdb_ids = [x.split('_')[1].split('.')[0] for x in  nominated_movies]\n",
        "        mean_matching_scores_df = pd.read_excel(config['paths']['movies_matching_scores'])\n",
        "        imdb_ids = mean_matching_scores_df[mean_matching_scores_df.iou_values_mean<1.]['imdb_id'].tolist() # ИСПРАВИТЬ!!! Убрать <1\n",
        "        imdb_ids = [str(x).rjust(7,'0') for x in imdb_ids]\n",
        "        not_nominated_movies_imdb_ids = [x for x in imdb_ids if not x in nominated_movies_imdb_ids]\n",
        "        return nominated_movies_imdb_ids, not_nominated_movies_imdb_ids\n",
        "\n",
        "    def get_labels(self):\n",
        "        if self.config['task']['name']=='meta_scores':\n",
        "            movie_meta_dict = self.get_movie_meta_scores()\n",
        "            movie_meta_dict = dict([(key, int(value>=60)) for key, value in movie_meta_dict.items()])\n",
        "            return movie_meta_dict\n",
        "        elif self.config['task']['name']=='script_awards':\n",
        "            nominated_movies_imdb_ids, not_nominated_movies_imdb_ids = self.get_movie_script_awards()\n",
        "            scripts_award_dict = list(zip(nominated_movies_imdb_ids, [1] * len(nominated_movies_imdb_ids)))\n",
        "            scripts_award_dict += list(zip(not_nominated_movies_imdb_ids, [0] * len(nominated_movies_imdb_ids)))\n",
        "            scripts_award_dict = dict(scripts_award_dict)\n",
        "            return scripts_award_dict\n",
        "\n",
        "\n"
      ],
      "execution_count": null,
      "outputs": []
    }
  ]
}